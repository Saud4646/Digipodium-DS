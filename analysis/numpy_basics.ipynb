{
 "cells": [
  {
   "cell_type": "code",
   "execution_count": 2,
   "metadata": {},
   "outputs": [],
   "source": [
    "import numpy as np\n"
   ]
  },
  {
   "cell_type": "code",
   "execution_count": 3,
   "metadata": {},
   "outputs": [
    {
     "name": "stdout",
     "output_type": "stream",
     "text": [
      "[1 2 3 4]\n",
      "<class 'numpy.ndarray'>\n"
     ]
    }
   ],
   "source": [
    "n1 = np.array([1,2,3,4])\n",
    "print(n1)\n",
    "print(type(n1))\n"
   ]
  },
  {
   "cell_type": "code",
   "execution_count": 4,
   "metadata": {},
   "outputs": [
    {
     "data": {
      "text/plain": [
       "165"
      ]
     },
     "execution_count": 4,
     "metadata": {},
     "output_type": "execute_result"
    }
   ],
   "source": [
    "x=[]\n",
    "len(dir(n1))"
   ]
  },
  {
   "cell_type": "code",
   "execution_count": 5,
   "metadata": {},
   "outputs": [
    {
     "data": {
      "text/plain": [
       "(4,)"
      ]
     },
     "execution_count": 5,
     "metadata": {},
     "output_type": "execute_result"
    }
   ],
   "source": [
    "n1.shape"
   ]
  },
  {
   "cell_type": "code",
   "execution_count": 6,
   "metadata": {},
   "outputs": [
    {
     "name": "stdout",
     "output_type": "stream",
     "text": [
      "[[1 2 3]\n",
      " [2 3 5]]\n",
      "(2, 3)\n"
     ]
    }
   ],
   "source": [
    "n2 = np.array([[1,2,3],[2,3,5]])\n",
    "print(n2)\n",
    "print(n2.shape)"
   ]
  },
  {
   "cell_type": "markdown",
   "metadata": {},
   "source": [
    "creating matrix\n",
    "- arange\n",
    "- linespace\n",
    "- random.rand\n",
    "- random.randin\n",
    "- eye\n",
    "- ones\n",
    "- zeroes "
   ]
  },
  {
   "cell_type": "code",
   "execution_count": 7,
   "metadata": {},
   "outputs": [
    {
     "data": {
      "text/plain": [
       "array([-1.00000000e+01, -9.80000000e+00, -9.60000000e+00, -9.40000000e+00,\n",
       "       -9.20000000e+00, -9.00000000e+00, -8.80000000e+00, -8.60000000e+00,\n",
       "       -8.40000000e+00, -8.20000000e+00, -8.00000000e+00, -7.80000000e+00,\n",
       "       -7.60000000e+00, -7.40000000e+00, -7.20000000e+00, -7.00000000e+00,\n",
       "       -6.80000000e+00, -6.60000000e+00, -6.40000000e+00, -6.20000000e+00,\n",
       "       -6.00000000e+00, -5.80000000e+00, -5.60000000e+00, -5.40000000e+00,\n",
       "       -5.20000000e+00, -5.00000000e+00, -4.80000000e+00, -4.60000000e+00,\n",
       "       -4.40000000e+00, -4.20000000e+00, -4.00000000e+00, -3.80000000e+00,\n",
       "       -3.60000000e+00, -3.40000000e+00, -3.20000000e+00, -3.00000000e+00,\n",
       "       -2.80000000e+00, -2.60000000e+00, -2.40000000e+00, -2.20000000e+00,\n",
       "       -2.00000000e+00, -1.80000000e+00, -1.60000000e+00, -1.40000000e+00,\n",
       "       -1.20000000e+00, -1.00000000e+00, -8.00000000e-01, -6.00000000e-01,\n",
       "       -4.00000000e-01, -2.00000000e-01, -3.55271368e-14,  2.00000000e-01,\n",
       "        4.00000000e-01,  6.00000000e-01,  8.00000000e-01,  1.00000000e+00,\n",
       "        1.20000000e+00,  1.40000000e+00,  1.60000000e+00,  1.80000000e+00,\n",
       "        2.00000000e+00,  2.20000000e+00,  2.40000000e+00,  2.60000000e+00,\n",
       "        2.80000000e+00,  3.00000000e+00,  3.20000000e+00,  3.40000000e+00,\n",
       "        3.60000000e+00,  3.80000000e+00,  4.00000000e+00,  4.20000000e+00,\n",
       "        4.40000000e+00,  4.60000000e+00,  4.80000000e+00,  5.00000000e+00,\n",
       "        5.20000000e+00,  5.40000000e+00,  5.60000000e+00,  5.80000000e+00,\n",
       "        6.00000000e+00,  6.20000000e+00,  6.40000000e+00,  6.60000000e+00,\n",
       "        6.80000000e+00,  7.00000000e+00,  7.20000000e+00,  7.40000000e+00,\n",
       "        7.60000000e+00,  7.80000000e+00,  8.00000000e+00,  8.20000000e+00,\n",
       "        8.40000000e+00,  8.60000000e+00,  8.80000000e+00,  9.00000000e+00,\n",
       "        9.20000000e+00,  9.40000000e+00,  9.60000000e+00,  9.80000000e+00])"
      ]
     },
     "execution_count": 7,
     "metadata": {},
     "output_type": "execute_result"
    }
   ],
   "source": [
    "np.arange(-10, 10, .2)"
   ]
  },
  {
   "cell_type": "code",
   "execution_count": 8,
   "metadata": {},
   "outputs": [
    {
     "name": "stdout",
     "output_type": "stream",
     "text": [
      "[1.         1.16666667 1.33333333 1.5        1.66666667 1.83333333\n",
      " 2.         2.16666667 2.33333333 2.5        2.66666667 2.83333333\n",
      " 3.         3.16666667 3.33333333 3.5        3.66666667 3.83333333\n",
      " 4.         4.16666667 4.33333333 4.5        4.66666667 4.83333333\n",
      " 5.        ]\n"
     ]
    }
   ],
   "source": [
    "y = np.linspace(1,5,25)\n",
    "print(y)"
   ]
  },
  {
   "cell_type": "code",
   "execution_count": 9,
   "metadata": {},
   "outputs": [
    {
     "data": {
      "text/plain": [
       "array([[0.31016191, 0.97610439, 0.63875802],\n",
       "       [0.39122055, 0.10427264, 0.65732823],\n",
       "       [0.56016386, 0.75932078, 0.01995992]])"
      ]
     },
     "execution_count": 9,
     "metadata": {},
     "output_type": "execute_result"
    }
   ],
   "source": [
    "np.random.rand(3,3)"
   ]
  },
  {
   "cell_type": "code",
   "execution_count": 10,
   "metadata": {},
   "outputs": [
    {
     "data": {
      "text/plain": [
       "array([ 0.30698249,  0.07320535,  0.41907824,  1.00988179,  0.86809099,\n",
       "       -1.83620332,  0.2475365 ,  0.31686971, -0.17395153, -1.07262714])"
      ]
     },
     "execution_count": 10,
     "metadata": {},
     "output_type": "execute_result"
    }
   ],
   "source": [
    "np.random.randn(10)"
   ]
  },
  {
   "cell_type": "code",
   "execution_count": 11,
   "metadata": {},
   "outputs": [
    {
     "data": {
      "text/plain": [
       "array([[3, 3, 2, 4, 3],\n",
       "       [3, 3, 1, 2, 1],\n",
       "       [2, 4, 3, 1, 1],\n",
       "       [2, 1, 2, 3, 2],\n",
       "       [3, 4, 2, 1, 4]])"
      ]
     },
     "execution_count": 11,
     "metadata": {},
     "output_type": "execute_result"
    }
   ],
   "source": [
    "np.random.randint(1,5,(5,5))"
   ]
  },
  {
   "cell_type": "code",
   "execution_count": 12,
   "metadata": {},
   "outputs": [
    {
     "name": "stdout",
     "output_type": "stream",
     "text": [
      "[[2 7]\n",
      " [1 4]\n",
      " [2 8]]\n",
      "[[8 4]\n",
      " [5 9]\n",
      " [6 6]]\n"
     ]
    }
   ],
   "source": [
    "x= np.random.randint(1,10,(3,2))\n",
    "y= np.random.randint(1,10,(3,2))\n",
    "print(x)\n",
    "print(y)"
   ]
  },
  {
   "cell_type": "code",
   "execution_count": 13,
   "metadata": {},
   "outputs": [
    {
     "data": {
      "text/plain": [
       "array([[10, 11],\n",
       "       [ 6, 13],\n",
       "       [ 8, 14]])"
      ]
     },
     "execution_count": 13,
     "metadata": {},
     "output_type": "execute_result"
    }
   ],
   "source": [
    "x + y"
   ]
  },
  {
   "cell_type": "code",
   "execution_count": 14,
   "metadata": {},
   "outputs": [
    {
     "data": {
      "text/plain": [
       "array([[16, 28],\n",
       "       [ 5, 36],\n",
       "       [12, 48]])"
      ]
     },
     "execution_count": 14,
     "metadata": {},
     "output_type": "execute_result"
    }
   ],
   "source": [
    "x * y"
   ]
  },
  {
   "cell_type": "code",
   "execution_count": 15,
   "metadata": {},
   "outputs": [
    {
     "data": {
      "text/plain": [
       "array([[ 0.90929743,  0.6569866 ],\n",
       "       [ 0.84147098, -0.7568025 ],\n",
       "       [ 0.90929743,  0.98935825]])"
      ]
     },
     "execution_count": 15,
     "metadata": {},
     "output_type": "execute_result"
    }
   ],
   "source": [
    "np.sin(x)"
   ]
  },
  {
   "cell_type": "code",
   "execution_count": 16,
   "metadata": {},
   "outputs": [
    {
     "name": "stdout",
     "output_type": "stream",
     "text": [
      "24\n",
      "4.0\n",
      "2.6457513110645907\n"
     ]
    }
   ],
   "source": [
    "print(x.sum())\n",
    "print(x.mean())\n",
    "print(x.std())"
   ]
  },
  {
   "cell_type": "code",
   "execution_count": 18,
   "metadata": {},
   "outputs": [
    {
     "name": "stdout",
     "output_type": "stream",
     "text": [
      "[[8 1 9 3 5 5 5 1 6 4]\n",
      " [4 8 2 7 1 3 2 9 6 1]\n",
      " [7 3 2 8 9 6 2 6 5 1]\n",
      " [5 8 6 7 4 5 1 7 9 2]\n",
      " [2 3 3 1 5 8 1 1 8 8]\n",
      " [3 1 1 8 3 8 9 8 8 4]\n",
      " [9 3 6 4 2 8 7 5 1 6]\n",
      " [1 6 4 5 4 5 4 7 1 4]\n",
      " [8 9 8 7 6 5 7 8 2 6]\n",
      " [9 9 8 1 3 5 1 5 5 5]]\n"
     ]
    }
   ],
   "source": [
    "x= np.random.randint(1,10,(10,10))\n",
    "print(x)"
   ]
  },
  {
   "cell_type": "code",
   "execution_count": 19,
   "metadata": {},
   "outputs": [
    {
     "name": "stdout",
     "output_type": "stream",
     "text": [
      "(50,)\n",
      "[[0.         0.10204082 0.20408163 0.30612245 0.40816327]\n",
      " [0.51020408 0.6122449  0.71428571 0.81632653 0.91836735]\n",
      " [1.02040816 1.12244898 1.2244898  1.32653061 1.42857143]\n",
      " [1.53061224 1.63265306 1.73469388 1.83673469 1.93877551]\n",
      " [2.04081633 2.14285714 2.24489796 2.34693878 2.44897959]\n",
      " [2.55102041 2.65306122 2.75510204 2.85714286 2.95918367]\n",
      " [3.06122449 3.16326531 3.26530612 3.36734694 3.46938776]\n",
      " [3.57142857 3.67346939 3.7755102  3.87755102 3.97959184]\n",
      " [4.08163265 4.18367347 4.28571429 4.3877551  4.48979592]\n",
      " [4.59183673 4.69387755 4.79591837 4.89795918 5.        ]]\n"
     ]
    }
   ],
   "source": [
    "a= np.linspace(0,5,50)\n",
    "print(a.shape)\n",
    "a2=a.reshape(10,5)\n",
    "print(a2)"
   ]
  },
  {
   "cell_type": "code",
   "execution_count": 22,
   "metadata": {},
   "outputs": [
    {
     "name": "stdout",
     "output_type": "stream",
     "text": [
      "8\n",
      "4\n",
      "9\n",
      "5\n"
     ]
    }
   ],
   "source": [
    "print(x[0,0])\n",
    "print(x[0,-1])\n",
    "print(x[-1,0])\n",
    "print(x[-1,-1])\n"
   ]
  },
  {
   "cell_type": "code",
   "execution_count": 26,
   "metadata": {},
   "outputs": [
    {
     "name": "stdout",
     "output_type": "stream",
     "text": [
      "[8 1 9 3 5 5 5 1 6 4]\n",
      "[[8 1 9 3 5 5 5 1 6 4]\n",
      " [4 8 2 7 1 3 2 9 6 1]\n",
      " [7 3 2 8 9 6 2 6 5 1]]\n",
      "[[1 6 4 5 4 5 4 7 1 4]\n",
      " [8 9 8 7 6 5 7 8 2 6]\n",
      " [9 9 8 1 3 5 1 5 5 5]]\n"
     ]
    }
   ],
   "source": [
    "print(x[0])\n",
    "print(x[:3]) #first 3 rows\n",
    "print(x[-3:]) #last 3 rows"
   ]
  },
  {
   "cell_type": "code",
   "execution_count": 29,
   "metadata": {},
   "outputs": [
    {
     "data": {
      "text/plain": [
       "array([[1, 6, 4],\n",
       "       [9, 6, 1],\n",
       "       [6, 5, 1],\n",
       "       [7, 9, 2],\n",
       "       [1, 8, 8],\n",
       "       [8, 8, 4],\n",
       "       [5, 1, 6],\n",
       "       [7, 1, 4],\n",
       "       [8, 2, 6],\n",
       "       [5, 5, 5]])"
      ]
     },
     "execution_count": 29,
     "metadata": {},
     "output_type": "execute_result"
    }
   ],
   "source": [
    "x[:,2] #first column\n",
    "x[:,-1] #last column\n",
    "x[:,:3] #first 3 column\n",
    "x[:,-3:] #last 3 column\n"
   ]
  },
  {
   "cell_type": "code",
   "execution_count": 31,
   "metadata": {},
   "outputs": [
    {
     "name": "stdout",
     "output_type": "stream",
     "text": [
      "[[8 9 3 5]\n",
      " [4 2 7 3]\n",
      " [7 2 8 6]\n",
      " [5 6 7 5]\n",
      " [2 3 1 8]\n",
      " [3 1 8 8]\n",
      " [9 6 4 8]\n",
      " [1 4 5 5]\n",
      " [8 8 7 5]\n",
      " [9 8 1 5]]\n"
     ]
    }
   ],
   "source": [
    "print(x[:,[0,2,3,5]])"
   ]
  },
  {
   "cell_type": "markdown",
   "metadata": {},
   "source": [
    "filtering"
   ]
  },
  {
   "cell_type": "code",
   "execution_count": 32,
   "metadata": {},
   "outputs": [
    {
     "data": {
      "text/plain": [
       "array([[False,  True, False,  True, False, False, False,  True, False,\n",
       "         True],\n",
       "       [ True, False,  True, False,  True,  True,  True, False, False,\n",
       "         True],\n",
       "       [False,  True,  True, False, False, False,  True, False, False,\n",
       "         True],\n",
       "       [False, False, False, False,  True, False,  True, False, False,\n",
       "         True],\n",
       "       [ True,  True,  True,  True, False, False,  True,  True, False,\n",
       "        False],\n",
       "       [ True,  True,  True, False,  True, False, False, False, False,\n",
       "         True],\n",
       "       [False,  True, False,  True,  True, False, False, False,  True,\n",
       "        False],\n",
       "       [ True, False,  True, False,  True, False,  True, False,  True,\n",
       "         True],\n",
       "       [False, False, False, False, False, False, False, False,  True,\n",
       "        False],\n",
       "       [False, False, False,  True,  True, False,  True, False, False,\n",
       "        False]])"
      ]
     },
     "execution_count": 32,
     "metadata": {},
     "output_type": "execute_result"
    }
   ],
   "source": [
    "x < 5 #boolean filter"
   ]
  },
  {
   "cell_type": "code",
   "execution_count": 33,
   "metadata": {},
   "outputs": [
    {
     "data": {
      "text/plain": [
       "array([1, 3, 1, 4, 4, 2, 1, 3, 2, 1, 3, 2, 2, 1, 4, 1, 2, 2, 3, 3, 1, 1,\n",
       "       1, 3, 1, 1, 3, 4, 3, 4, 2, 1, 1, 4, 4, 4, 1, 4, 2, 1, 3, 1])"
      ]
     },
     "execution_count": 33,
     "metadata": {},
     "output_type": "execute_result"
    }
   ],
   "source": [
    "x[x<5]"
   ]
  },
  {
   "cell_type": "code",
   "execution_count": 34,
   "metadata": {},
   "outputs": [
    {
     "data": {
      "text/plain": [
       "array([3, 5, 5, 5, 6, 4, 4, 3, 6, 3, 6, 6, 5, 5, 6, 4, 5, 3, 3, 5, 3, 3,\n",
       "       4, 3, 6, 4, 5, 6, 6, 4, 5, 4, 5, 4, 4, 6, 5, 6, 3, 5, 5, 5, 5])"
      ]
     },
     "execution_count": 34,
     "metadata": {},
     "output_type": "execute_result"
    }
   ],
   "source": [
    "x[(x>=3) & (x<=6) ]"
   ]
  },
  {
   "cell_type": "code",
   "execution_count": null,
   "metadata": {},
   "outputs": [],
   "source": []
  }
 ],
 "metadata": {
  "kernelspec": {
   "display_name": "base",
   "language": "python",
   "name": "python3"
  },
  "language_info": {
   "codemirror_mode": {
    "name": "ipython",
    "version": 3
   },
   "file_extension": ".py",
   "mimetype": "text/x-python",
   "name": "python",
   "nbconvert_exporter": "python",
   "pygments_lexer": "ipython3",
   "version": "3.10.10"
  },
  "orig_nbformat": 4
 },
 "nbformat": 4,
 "nbformat_minor": 2
}
