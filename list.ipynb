{
 "cells": [
  {
   "cell_type": "markdown",
   "metadata": {},
   "source": [
    "#### list\n",
    "- indexed, ordered, mutable, allows duplicate elements, heterogenous, '[]', 'list()'\n",
    "#### tuple\n",
    "- indexes, ordered, **imutable**, allows duplicate elements, heterogenous , '{}', 'set()'\n",
    "#### dictionary\n",
    "- **unordered**, mutable, **does not allow duplicate keys**, heterogenous, key:value pairs, '{}', 'dict()' "
   ]
  },
  {
   "cell_type": "markdown",
   "metadata": {},
   "source": [
    "# list\n",
    "- creating\n",
    "- indexing slicing\n",
    "- methods(11)\n",
    "- list compeihension"
   ]
  },
  {
   "cell_type": "markdown",
   "metadata": {},
   "source": [
    "- adding\n",
    "   - append() - adds an element at the of the list\n",
    "   - extend() - adds all elements of one list to another lit\n",
    "   - insert() - adds an element at a specific index\n",
    "\n",
    "- removing\n",
    "   - remove()\n",
    "   - pop()\n",
    "   - clear()"
   ]
  },
  {
   "cell_type": "code",
   "execution_count": 4,
   "metadata": {},
   "outputs": [
    {
     "name": "stdout",
     "output_type": "stream",
     "text": [
      "['12', '123', '13', '23', '23', '243', '43', '234', '234', '24']\n"
     ]
    }
   ],
   "source": [
    "x=[]\n",
    "for i in range(10):\n",
    "    p=input('enter the numbers')\n",
    "    x.append(p)\n",
    "print(x)\n",
    "\n",
    "    "
   ]
  },
  {
   "cell_type": "code",
   "execution_count": 5,
   "metadata": {},
   "outputs": [
    {
     "name": "stdout",
     "output_type": "stream",
     "text": [
      "['12', '13', '23', '23', '243', '43', '234', '234', '24']\n"
     ]
    }
   ],
   "source": [
    "x.remove('123')\n",
    "print(x)"
   ]
  },
  {
   "cell_type": "code",
   "execution_count": 6,
   "metadata": {},
   "outputs": [
    {
     "name": "stdout",
     "output_type": "stream",
     "text": [
      "['12', '13', '23', '23', '243', '43', '234', '234', '24']\n"
     ]
    }
   ],
   "source": [
    "if '123' in x:\n",
    "    x.remove('123')\n",
    "print(x)"
   ]
  },
  {
   "cell_type": "code",
   "execution_count": 7,
   "metadata": {},
   "outputs": [
    {
     "name": "stdout",
     "output_type": "stream",
     "text": [
      "456 not found\n"
     ]
    }
   ],
   "source": [
    "x.remove('456')if '456' in x else print('456 not found')"
   ]
  },
  {
   "cell_type": "code",
   "execution_count": 8,
   "metadata": {},
   "outputs": [
    {
     "name": "stdout",
     "output_type": "stream",
     "text": [
      "5\n",
      "3\n"
     ]
    }
   ],
   "source": [
    "x = [1,2,3,4,5]\n",
    "print(x.pop())\n",
    "print(x.pop(2))\n",
    "\n"
   ]
  },
  {
   "cell_type": "code",
   "execution_count": 9,
   "metadata": {},
   "outputs": [],
   "source": [
    "del x"
   ]
  },
  {
   "cell_type": "code",
   "execution_count": 10,
   "metadata": {},
   "outputs": [],
   "source": [
    "a = [1,1,1,1,2,3,2,3,3,5,5,]"
   ]
  },
  {
   "cell_type": "code",
   "execution_count": 1,
   "metadata": {},
   "outputs": [
    {
     "name": "stdout",
     "output_type": "stream",
     "text": [
      "['harry', 'jerry', 'john', 'tom']\n"
     ]
    }
   ],
   "source": [
    "names= ['john', 'tom', 'jerry', 'harry'] \n",
    "names.sort()\n",
    "print(names)"
   ]
  },
  {
   "cell_type": "code",
   "execution_count": 21,
   "metadata": {},
   "outputs": [
    {
     "name": "stdout",
     "output_type": "stream",
     "text": [
      "[0, 1, 1, 2, 3, 5, 8, 13, 21, 34, 55, 89, 144]\n"
     ]
    }
   ],
   "source": [
    "list=[0,1]\n",
    "for i in range(11):\n",
    "    list.append(list[-2] + list[-1])\n",
    "print(list)"
   ]
  },
  {
   "cell_type": "code",
   "execution_count": 1,
   "metadata": {},
   "outputs": [
    {
     "name": "stdout",
     "output_type": "stream",
     "text": [
      "[1, 2, 3, 4, 5]\n",
      "[1, 4, 9, 16, 25]\n"
     ]
    }
   ],
   "source": [
    "x = [1,2,3,4,5]\n",
    "x2 = []\n",
    "for i in x:\n",
    "    s = i**2\n",
    "    x2.append(s)\n",
    "print(x)    \n",
    "print(x2)    "
   ]
  },
  {
   "cell_type": "code",
   "execution_count": 3,
   "metadata": {},
   "outputs": [
    {
     "name": "stdout",
     "output_type": "stream",
     "text": [
      "['parker', 'dj', 'kashiyap']\n"
     ]
    }
   ],
   "source": [
    "name=['peter parker', 'dj', 'ali kashiyap']\n",
    "fn= []\n",
    "for i in name:\n",
    "    fn.append(i.split()[-1])\n",
    "print(fn)    "
   ]
  },
  {
   "cell_type": "code",
   "execution_count": 4,
   "metadata": {},
   "outputs": [
    {
     "name": "stdout",
     "output_type": "stream",
     "text": [
      "[2, 4, 6, 8, 10]\n"
     ]
    }
   ],
   "source": [
    "a=[1,2,3,4,5,6,7,8,9,10]\n",
    "b=[]\n",
    "for i in a:\n",
    "    if i%2==0:\n",
    "        b.append(i)\n",
    "print(b)        "
   ]
  },
  {
   "cell_type": "code",
   "execution_count": null,
   "metadata": {},
   "outputs": [],
   "source": []
  }
 ],
 "metadata": {
  "kernelspec": {
   "display_name": "Python 3",
   "language": "python",
   "name": "python3"
  },
  "language_info": {
   "codemirror_mode": {
    "name": "ipython",
    "version": 3
   },
   "file_extension": ".py",
   "mimetype": "text/x-python",
   "name": "python",
   "nbconvert_exporter": "python",
   "pygments_lexer": "ipython3",
   "version": "3.10.10"
  },
  "orig_nbformat": 4
 },
 "nbformat": 4,
 "nbformat_minor": 2
}
