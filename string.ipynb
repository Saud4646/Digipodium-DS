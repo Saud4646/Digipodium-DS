{
 "cells": [
  {
   "cell_type": "markdown",
   "metadata": {},
   "source": [
    "- creation\n",
    "- indexing and slicing\n",
    "- methods"
   ]
  },
  {
   "cell_type": "code",
   "execution_count": 2,
   "metadata": {},
   "outputs": [
    {
     "name": "stdout",
     "output_type": "stream",
     "text": [
      "hahahahahahahahahaha\n",
      "100 <class 'str'>\n"
     ]
    }
   ],
   "source": [
    "s = \"hello\"\n",
    "s1 = 'world'\n",
    "msg = '''this is a message \n",
    "with multiple lines'''\n",
    "w = 'ha' *10\n",
    "print(w)\n",
    "a = 100\n",
    "b = str(a)\n",
    "print(b, type(b))"
   ]
  },
  {
   "cell_type": "code",
   "execution_count": 3,
   "metadata": {},
   "outputs": [
    {
     "name": "stdout",
     "output_type": "stream",
     "text": [
      "from turtle import *\n",
      "\n",
      "speed('fastest')\n",
      "pensize(2)\n",
      "bgcolor('black')\n",
      "pencolor('white')\n",
      "colors = ['red','yellow','green','orange','purple','blue']\n",
      "side = 6\n",
      "for i in range(side):\n",
      "    fd(200)\n",
      "    for i in range (side):\n",
      "        fd(100)\n",
      "        lt(360/side)\n",
      "        begin_fill()\n",
      "        fillcolor(colors[i%6])\n",
      "        for i in range(side):\n",
      "            fd(50)\n",
      "            lt(360/side)\n",
      "        end_fill()\n",
      "    lt(360/side)\n",
      "hideturtle() \n",
      "mainloop()            \n",
      "\n",
      "            \n"
     ]
    }
   ],
   "source": [
    "data = open('t4.py').read()\n",
    "print(data)"
   ]
  },
  {
   "cell_type": "code",
   "execution_count": 7,
   "metadata": {},
   "outputs": [
    {
     "name": "stdout",
     "output_type": "stream",
     "text": [
      "h\n",
      "e\n",
      "l\n",
      "l\n",
      "o\n"
     ]
    }
   ],
   "source": [
    "print(s[0])\n",
    "print(s[1])\n",
    "print(s[2])\n",
    "print(s[3])\n",
    "print(s[4])\n",
    "print(s[-1]) #last char\n",
    "print(s[-2]) #second last char"
   ]
  },
  {
   "cell_type": "code",
   "execution_count": 15,
   "metadata": {},
   "outputs": [],
   "source": [
    "name = 'william shakespeare'"
   ]
  },
  {
   "cell_type": "code",
   "execution_count": 16,
   "metadata": {},
   "outputs": [
    {
     "data": {
      "text/plain": [
       "'shake'"
      ]
     },
     "execution_count": 16,
     "metadata": {},
     "output_type": "execute_result"
    }
   ],
   "source": [
    "name[8:-6]"
   ]
  },
  {
   "cell_type": "code",
   "execution_count": 17,
   "metadata": {},
   "outputs": [
    {
     "data": {
      "text/plain": [
       "'liam'"
      ]
     },
     "execution_count": 17,
     "metadata": {},
     "output_type": "execute_result"
    }
   ],
   "source": [
    "name[3:7]"
   ]
  },
  {
   "cell_type": "code",
   "execution_count": 19,
   "metadata": {},
   "outputs": [
    {
     "data": {
      "text/plain": [
       "'peare'"
      ]
     },
     "execution_count": 19,
     "metadata": {},
     "output_type": "execute_result"
    }
   ],
   "source": [
    "name[14:]"
   ]
  },
  {
   "cell_type": "code",
   "execution_count": 21,
   "metadata": {},
   "outputs": [
    {
     "name": "stdout",
     "output_type": "stream",
     "text": [
      "shake\n",
      "william shake\n",
      "william shakespeare\n",
      "wlimsaepae\n",
      "eraepsekahs mailliw\n"
     ]
    }
   ],
   "source": [
    "a = name[8:-6]\n",
    "print(a)\n",
    "b = name[8:] #|last index can be omitted if slicing is till end \n",
    "print(b)\n",
    "c = name[:-6] #first index can be omitted if slicing is till end\n",
    "print(c)\n",
    "d = name[:]\n",
    "print(d)\n",
    "e = name[::2] #step\n",
    "print(e)\n",
    "f = name[::-1] #revers of a given string\n",
    "print(f)\n"
   ]
  },
  {
   "cell_type": "code",
   "execution_count": 22,
   "metadata": {},
   "outputs": [
    {
     "data": {
      "text/plain": [
       "19"
      ]
     },
     "execution_count": 22,
     "metadata": {},
     "output_type": "execute_result"
    }
   ],
   "source": [
    "len(name)"
   ]
  },
  {
   "cell_type": "markdown",
   "metadata": {},
   "source": [
    "methods\n",
    " - utility method\n",
    "   -count\n",
    "   -find\n",
    "   -replace\n",
    "   -split\n",
    "   -join\n",
    "   -strip\n",
    " -formatting method\n",
    "    -capitalize\n",
    "    -title\n",
    "    -lower\n",
    "    -upper\n",
    "    -swapcase\n",
    "    -case\n",
    " -validation method\n",
    "     -isalnum\n",
    "     -isalpha\n",
    "     -isdigit\n",
    "     -islower\n",
    "     -isupper\n",
    "     -istitle\n",
    "     -isspace\n",
    "\n"
   ]
  },
  {
   "cell_type": "code",
   "execution_count": 46,
   "metadata": {},
   "outputs": [
    {
     "name": "stdout",
     "output_type": "stream",
     "text": [
      "9\n",
      "2\n",
      "1\n"
     ]
    }
   ],
   "source": [
    "msg ='''this is a story about a kingdom of south india lead by the hoyasala dynasty kings.'''\n",
    "\n",
    "print(msg.count('a'))\n",
    "print(msg.count('out'))\n",
    "print(msg.count('the'))\n",
    "\n"
   ]
  },
  {
   "cell_type": "markdown",
   "metadata": {},
   "source": []
  },
  {
   "cell_type": "code",
   "execution_count": 47,
   "metadata": {},
   "outputs": [
    {
     "name": "stdout",
     "output_type": "stream",
     "text": [
      "25\n"
     ]
    }
   ],
   "source": [
    "total_vowels= msg.count('a')+msg.count('e')+msg.count('i')+msg.count('o')+msg.count('u')\n",
    "print(total_vowels)"
   ]
  },
  {
   "cell_type": "code",
   "execution_count": 48,
   "metadata": {},
   "outputs": [
    {
     "name": "stdout",
     "output_type": "stream",
     "text": [
      "25\n"
     ]
    }
   ],
   "source": [
    "tvs = 0\n",
    "for c in 'aeiou':\n",
    "    tvs += msg.count(c)\n",
    "print(tvs)    "
   ]
  },
  {
   "cell_type": "code",
   "execution_count": 49,
   "metadata": {},
   "outputs": [
    {
     "data": {
      "text/plain": [
       "10"
      ]
     },
     "execution_count": 49,
     "metadata": {},
     "output_type": "execute_result"
    }
   ],
   "source": [
    "msg.find('story')"
   ]
  },
  {
   "cell_type": "code",
   "execution_count": 50,
   "metadata": {},
   "outputs": [
    {
     "data": {
      "text/plain": [
       "18"
      ]
     },
     "execution_count": 50,
     "metadata": {},
     "output_type": "execute_result"
    }
   ],
   "source": [
    "msg.find('out')"
   ]
  },
  {
   "cell_type": "code",
   "execution_count": 51,
   "metadata": {},
   "outputs": [
    {
     "data": {
      "text/plain": [
       "36"
      ]
     },
     "execution_count": 51,
     "metadata": {},
     "output_type": "execute_result"
    }
   ],
   "source": [
    "msg.find('out', 19)"
   ]
  },
  {
   "cell_type": "code",
   "execution_count": 1,
   "metadata": {},
   "outputs": [
    {
     "ename": "NameError",
     "evalue": "name 'msg' is not defined",
     "output_type": "error",
     "traceback": [
      "\u001b[1;31m---------------------------------------------------------------------------\u001b[0m",
      "\u001b[1;31mNameError\u001b[0m                                 Traceback (most recent call last)",
      "Cell \u001b[1;32mIn[1], line 1\u001b[0m\n\u001b[1;32m----> 1\u001b[0m msg\u001b[39m.\u001b[39mrfind(\u001b[39m'\u001b[39m\u001b[39mout\u001b[39m\u001b[39m'\u001b[39m)\n",
      "\u001b[1;31mNameError\u001b[0m: name 'msg' is not defined"
     ]
    }
   ],
   "source": [
    "msg.rfind('out')"
   ]
  },
  {
   "cell_type": "code",
   "execution_count": 53,
   "metadata": {},
   "outputs": [
    {
     "data": {
      "text/plain": [
       "'this is b story bbout b kingdom of south indib lebd by the hoybsblb dynbsty kings.'"
      ]
     },
     "execution_count": 53,
     "metadata": {},
     "output_type": "execute_result"
    }
   ],
   "source": [
    "msg.replace('a','b')"
   ]
  },
  {
   "cell_type": "code",
   "execution_count": 54,
   "metadata": {},
   "outputs": [
    {
     "data": {
      "text/plain": [
       "'this is a story abthe a kingdom of stheh india lead by the hoyasala dynasty kings.'"
      ]
     },
     "execution_count": 54,
     "metadata": {},
     "output_type": "execute_result"
    }
   ],
   "source": [
    "msg.replace('out','the')"
   ]
  },
  {
   "cell_type": "code",
   "execution_count": 55,
   "metadata": {},
   "outputs": [
    {
     "data": {
      "text/plain": [
       "'this is  story bout  kingdom of south indi led by the hoysl dynsty kings.'"
      ]
     },
     "execution_count": 55,
     "metadata": {},
     "output_type": "execute_result"
    }
   ],
   "source": [
    "msg.replace('a','') #remove all a's by ''"
   ]
  },
  {
   "cell_type": "code",
   "execution_count": 56,
   "metadata": {},
   "outputs": [
    {
     "data": {
      "text/plain": [
       "'this is  story bout  kingdom of south indi led by the hoysl dynsty kings.this is a story about a kingdom of south india lad by th hoyasala dynasty kings.ths s a story about a kngdom of south nda lead by the hoyasala dynasty kngs.this is a stry abut a kingdm f suth india lead by the hyasala dynasty kings.this is a story abot a kingdom of soth india lead by the hoyasala dynasty kings.'"
      ]
     },
     "execution_count": 56,
     "metadata": {},
     "output_type": "execute_result"
    }
   ],
   "source": [
    "msg.replace('a','')+msg.replace('e','')+msg.replace('i','')+msg.replace('o','')+msg.replace('u','')"
   ]
  },
  {
   "cell_type": "code",
   "execution_count": 59,
   "metadata": {},
   "outputs": [
    {
     "name": "stdout",
     "output_type": "stream",
     "text": [
      "ths s  stry bt  kngdm f sth nd ld by th hysl dynsty kngs.\n"
     ]
    }
   ],
   "source": [
    "msg_copy = msg\n",
    "for c in 'aeiou':\n",
    "   msg_copy= msg_copy.replace(c,'')\n",
    "print(msg_copy)"
   ]
  },
  {
   "cell_type": "code",
   "execution_count": null,
   "metadata": {},
   "outputs": [],
   "source": []
  },
  {
   "cell_type": "code",
   "execution_count": null,
   "metadata": {},
   "outputs": [],
   "source": []
  }
 ],
 "metadata": {
  "kernelspec": {
   "display_name": "Python 3",
   "language": "python",
   "name": "python3"
  },
  "language_info": {
   "codemirror_mode": {
    "name": "ipython",
    "version": 3
   },
   "file_extension": ".py",
   "mimetype": "text/x-python",
   "name": "python",
   "nbconvert_exporter": "python",
   "pygments_lexer": "ipython3",
   "version": "3.10.10"
  },
  "orig_nbformat": 4
 },
 "nbformat": 4,
 "nbformat_minor": 2
}
