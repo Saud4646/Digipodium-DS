{
 "cells": [
  {
   "cell_type": "code",
   "execution_count": null,
   "metadata": {},
   "outputs": [],
   "source": []
  },
  {
   "cell_type": "markdown",
   "metadata": {},
   "source": [
    "true values\n",
    "- true\n",
    "- non-zero numbers\n",
    "- non empty strings\n",
    "   \n",
    "fales values\n",
    "- false \n",
    "- 0\n",
    "- 0.0\n",
    "- none\n",
    "- empty strings\n",
    "\n"
   ]
  },
  {
   "cell_type": "code",
   "execution_count": 5,
   "metadata": {},
   "outputs": [
    {
     "name": "stdout",
     "output_type": "stream",
     "text": [
      "you entered saud\n"
     ]
    }
   ],
   "source": [
    "name = input('enter a name')\n",
    "if name:\n",
    "    print(f'you entered {name}')\n",
    "else:\n",
    "    print('you did not enter a name')    \n",
    "    \n"
   ]
  },
  {
   "cell_type": "markdown",
   "metadata": {},
   "source": [
    "\n"
   ]
  },
  {
   "cell_type": "code",
   "execution_count": 2,
   "metadata": {},
   "outputs": [
    {
     "name": "stdout",
     "output_type": "stream",
     "text": [
      "even\n"
     ]
    }
   ],
   "source": [
    "number=int (input('enter a numer'))\n",
    "if number % 2 == 0:\n",
    "    print('even')\n",
    "else:\n",
    "    print('odd')\n",
    "\n",
    "\n",
    "\n"
   ]
  },
  {
   "cell_type": "code",
   "execution_count": 3,
   "metadata": {},
   "outputs": [
    {
     "name": "stdout",
     "output_type": "stream",
     "text": [
      "time to work\n"
     ]
    }
   ],
   "source": [
    "day  = input('enter day')\n",
    "match day:\n",
    "    case 'monday':\n",
    "        print('time to work')\n",
    "    case 'tuesday' | 'wednesday':\n",
    "        print('time to work again')\n",
    "    case 'thursday':\n",
    "        print('almost there')\n",
    "    case 'friday':\n",
    "        print('weekend, not really')\n",
    "    case _:\n",
    "        print('holiday')    \n",
    "\n",
    "\n",
    "\n",
    "\n",
    "\n",
    "  \n",
    "\n"
   ]
  },
  {
   "cell_type": "code",
   "execution_count": null,
   "metadata": {},
   "outputs": [],
   "source": []
  }
 ],
 "metadata": {
  "kernelspec": {
   "display_name": "base",
   "language": "python",
   "name": "python3"
  },
  "language_info": {
   "codemirror_mode": {
    "name": "ipython",
    "version": 3
   },
   "file_extension": ".py",
   "mimetype": "text/x-python",
   "name": "python",
   "nbconvert_exporter": "python",
   "pygments_lexer": "ipython3",
   "version": "3.10.10"
  },
  "orig_nbformat": 4
 },
 "nbformat": 4,
 "nbformat_minor": 2
}
