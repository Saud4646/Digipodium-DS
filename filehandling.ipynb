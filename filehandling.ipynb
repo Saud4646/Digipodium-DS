{
 "cells": [
  {
   "cell_type": "markdown",
   "metadata": {},
   "source": [
    "# file handling\n",
    "\n",
    "- open\n",
    "- read\n",
    "- write\n",
    "- append\n",
    "- close❌\n",
    "    - with keyword is better"
   ]
  },
  {
   "cell_type": "code",
   "execution_count": 2,
   "metadata": {},
   "outputs": [
    {
     "data": {
      "text/plain": [
       "<_io.TextIOWrapper name='t1.py' mode='r' encoding='UTF-8'>"
      ]
     },
     "execution_count": 2,
     "metadata": {},
     "output_type": "execute_result"
    }
   ],
   "source": [
    "open('t1.py') #open and load into memory"
   ]
  },
  {
   "cell_type": "code",
   "execution_count": 3,
   "metadata": {},
   "outputs": [
    {
     "data": {
      "text/plain": [
       "\"from turtle import *\\n\\nspeed('slowest')\\npencolor('red')\\n\\n# range(stop)\\n\\n\\nfor i in range(6, 12):\\n    fd(120)\\n    lt(360/6)\\n    dot(10, 'green')\\n    write(i, font=('Calibri' , 30, 'bold'))\\n\\ngoto(100,100)\\nfor i in range (10,0,-1):\\n    fd(60)\\n    lt(360/10)\\n    dot(20,'red')\\n    write(i, font=('Calibri', 20,'bold'))\\n\\nmainloop()\""
      ]
     },
     "execution_count": 3,
     "metadata": {},
     "output_type": "execute_result"
    }
   ],
   "source": [
    "open('t1.py').read()"
   ]
  },
  {
   "cell_type": "code",
   "execution_count": 5,
   "metadata": {},
   "outputs": [
    {
     "name": "stdout",
     "output_type": "stream",
     "text": [
      "from turtle import *\n",
      "\n",
      "speed('slowest')\n",
      "pencolor('red')\n",
      "\n",
      "# range(stop)\n",
      "\n",
      "\n",
      "for i in range(6, 12):\n",
      "    fd(120)\n",
      "    lt(360/6)\n",
      "    dot(10, 'green')\n",
      "    write(i, font=('Calibri' , 30, 'bold'))\n",
      "\n",
      "goto(100,100)\n",
      "for i in range (10,0,-1):\n",
      "    fd(60)\n",
      "    lt(360/10)\n",
      "    dot(20,'red')\n",
      "    write(i, font=('Calibri', 20,'bold'))\n",
      "\n",
      "mainloop()\n"
     ]
    }
   ],
   "source": [
    "# reading a file using encoding and errors ignored\n",
    "\n",
    "with open('t1.py', encoding='utf-8' , errors='ignore') as file:\n",
    "    content = file.read()\n",
    "print(content)    "
   ]
  },
  {
   "cell_type": "code",
   "execution_count": 9,
   "metadata": {},
   "outputs": [
    {
     "name": "stdout",
     "output_type": "stream",
     "text": [
      "31275 weird character found\n"
     ]
    }
   ],
   "source": [
    "path= r'C:\\Users\\moham\\OneDrive\\Pictures\\breaking-bad-walter-white-heisenberg-graffiti-drawing-hd-wallpaper-preview.jpg'\n",
    "# open the file in read binary mode\n",
    "with open(path, 'rb') as file:\n",
    "    bytes= file.read()\n",
    "print(len(bytes),'weird character found')    "
   ]
  },
  {
   "cell_type": "code",
   "execution_count": 10,
   "metadata": {},
   "outputs": [
    {
     "name": "stdout",
     "output_type": "stream",
     "text": [
      "✅file created succesfully\n"
     ]
    }
   ],
   "source": [
    "# creating a text file\n",
    "data = 'life before death\\nstrength before weakness\\njourney before destination'\n",
    "# 'w' is the write mode\n",
    "with open('oaths.txt','w')as f:\n",
    "    f.write(data)\n",
    "print('✅file created succesfully')"
   ]
  },
  {
   "cell_type": "code",
   "execution_count": 12,
   "metadata": {},
   "outputs": [
    {
     "name": "stdout",
     "output_type": "stream",
     "text": [
      "✅kahani khatam\n"
     ]
    }
   ],
   "source": [
    "with open('kahani.txt', 'w')as file:\n",
    "    while True:\n",
    "        line= input('>>>')\n",
    "        if not line:\n",
    "            break\n",
    "        file.write(line + '\\n')\n",
    "    print('✅kahani khatam')    \n",
    "\n"
   ]
  },
  {
   "cell_type": "code",
   "execution_count": 13,
   "metadata": {},
   "outputs": [
    {
     "name": "stdout",
     "output_type": "stream",
     "text": [
      "file created succcesfully\n"
     ]
    }
   ],
   "source": [
    "# adding content to existing file\n",
    "with open('oaths.txt','a' )as file:\n",
    "    file.write('\\nthe first ideal of knight radiant')\n",
    "    file.write('fron the book : the way of kings')\n",
    "    print('file created succcesfully')"
   ]
  },
  {
   "cell_type": "markdown",
   "metadata": {},
   "source": [
    "os library"
   ]
  },
  {
   "cell_type": "code",
   "execution_count": 14,
   "metadata": {},
   "outputs": [],
   "source": [
    "import os"
   ]
  },
  {
   "cell_type": "code",
   "execution_count": 15,
   "metadata": {},
   "outputs": [
    {
     "name": "stdout",
     "output_type": "stream",
     "text": [
      "the correct path is=\n",
      "c:\\Users\\moham\\OneDrive\\Documents\\Digipodium DS\n"
     ]
    }
   ],
   "source": [
    "print(\"the correct path is=\")\n",
    "print(os.getcwd())"
   ]
  },
  {
   "cell_type": "code",
   "execution_count": 17,
   "metadata": {},
   "outputs": [
    {
     "name": "stdout",
     "output_type": "stream",
     "text": [
      "all the content directly: \n"
     ]
    },
    {
     "data": {
      "text/plain": [
       "['conditionals.ipynb',\n",
       " 'filehandling.ipynb',\n",
       " 'hw.ipynb',\n",
       " 'kahani.txt',\n",
       " 'list.ipynb',\n",
       " 'list.py',\n",
       " 'loops.ipynb',\n",
       " 'oaths.txt',\n",
       " 'pattern.py',\n",
       " 'string.ipynb',\n",
       " 't1.py',\n",
       " 't2.py',\n",
       " 't3.py',\n",
       " 't4.py',\n",
       " 'tuples_n_sets.ipynb']"
      ]
     },
     "execution_count": 17,
     "metadata": {},
     "output_type": "execute_result"
    }
   ],
   "source": [
    "print('all the content directly: ')\n",
    "os.listdir()"
   ]
  },
  {
   "cell_type": "code",
   "execution_count": 18,
   "metadata": {},
   "outputs": [
    {
     "name": "stdout",
     "output_type": "stream",
     "text": [
      "all the content of some other location\n"
     ]
    },
    {
     "data": {
      "text/plain": [
       "['addins',\n",
       " 'appcompat',\n",
       " 'apppatch',\n",
       " 'AppReadiness',\n",
       " 'assembly',\n",
       " 'bcastdvr',\n",
       " 'bfsvc.exe',\n",
       " 'BitLockerDiscoveryVolumeContents',\n",
       " 'Boot',\n",
       " 'bootstat.dat',\n",
       " 'Branding',\n",
       " 'CbsTemp',\n",
       " 'Containers',\n",
       " 'CSC',\n",
       " 'Cursors',\n",
       " 'debug',\n",
       " 'diagnostics',\n",
       " 'DiagTrack',\n",
       " 'DigitalLocker',\n",
       " 'Downloaded Program Files',\n",
       " 'DtcInstall.log',\n",
       " 'ELAMBKUP',\n",
       " 'en-US',\n",
       " 'explorer.exe',\n",
       " 'Fonts',\n",
       " 'GameBarPresenceWriter',\n",
       " 'Globalization',\n",
       " 'Help',\n",
       " 'HelpPane.exe',\n",
       " 'hh.exe',\n",
       " 'IdentityCRL',\n",
       " 'IME',\n",
       " 'ImmersiveControlPanel',\n",
       " 'INF',\n",
       " 'InputMethod',\n",
       " 'Installer',\n",
       " 'k010.TTF',\n",
       " 'Kruti-Dev-010.zip',\n",
       " 'L2Schemas',\n",
       " 'LanguageOverlayCache',\n",
       " 'LiveKernelReports',\n",
       " 'Logs',\n",
       " 'lsasetup.log',\n",
       " 'Media',\n",
       " 'mib.bin',\n",
       " 'Microsoft.NET',\n",
       " 'Migration',\n",
       " 'ModemLogs',\n",
       " 'notepad.exe',\n",
       " 'OCR',\n",
       " 'ODBC.INI',\n",
       " 'Offline Web Pages',\n",
       " 'Panther',\n",
       " 'PCHEALTH',\n",
       " 'Performance',\n",
       " 'PFRO.log',\n",
       " 'PLA',\n",
       " 'PolicyDefinitions',\n",
       " 'Prefetch',\n",
       " 'PrintDialog',\n",
       " 'Professional.xml',\n",
       " 'Provisioning',\n",
       " 'regedit.exe',\n",
       " 'Registration',\n",
       " 'RemotePackages',\n",
       " 'rescache',\n",
       " 'Resources',\n",
       " 'SchCache',\n",
       " 'schemas',\n",
       " 'security',\n",
       " 'ServiceProfiles',\n",
       " 'ServiceState',\n",
       " 'servicing',\n",
       " 'Setup',\n",
       " 'setupact.log',\n",
       " 'setuperr.log',\n",
       " 'ShellComponents',\n",
       " 'ShellExperiences',\n",
       " 'SHELLNEW',\n",
       " 'SKB',\n",
       " 'SoftwareDistribution',\n",
       " 'Speech',\n",
       " 'Speech_OneCore',\n",
       " 'splwow64.exe',\n",
       " 'System',\n",
       " 'system.ini',\n",
       " 'System32',\n",
       " 'SystemApps',\n",
       " 'SystemResources',\n",
       " 'SystemTemp',\n",
       " 'SysWOW64',\n",
       " 'TAPI',\n",
       " 'Tasks',\n",
       " 'Temp',\n",
       " 'tracing',\n",
       " 'twain_32',\n",
       " 'twain_32.dll',\n",
       " 'Vss',\n",
       " 'WaaS',\n",
       " 'Web',\n",
       " 'win.ini',\n",
       " 'WindowsShell.Manifest',\n",
       " 'WindowsUpdate.log',\n",
       " 'winhlp32.exe',\n",
       " 'WinSxS',\n",
       " 'WMSysPr9.prx',\n",
       " 'write.exe']"
      ]
     },
     "execution_count": 18,
     "metadata": {},
     "output_type": "execute_result"
    }
   ],
   "source": [
    "print('all the content of some other location')\n",
    "path= 'C:/Windows/'\n",
    "os.listdir(path)"
   ]
  },
  {
   "cell_type": "code",
   "execution_count": 22,
   "metadata": {},
   "outputs": [
    {
     "name": "stdout",
     "output_type": "stream",
     "text": [
      "C:/Intel/Logs/IntelCPHS.log\n",
      "C:/Intel/Logs/IntelGFX.log\n",
      "C:/Intel/Logs/IntelGFXCoin.log\n"
     ]
    }
   ],
   "source": [
    "#recursive file and folder\n",
    "for root, dirs, files in os.walk(\"C:/Intel/Logs/\",topdown=False):\n",
    "    for name in files:\n",
    "        print(os.path.join(root,name))\n",
    "    for name in dirs:\n",
    "        print(os.path.join(root, name))    "
   ]
  },
  {
   "cell_type": "code",
   "execution_count": null,
   "metadata": {},
   "outputs": [],
   "source": []
  }
 ],
 "metadata": {
  "kernelspec": {
   "display_name": "base",
   "language": "python",
   "name": "python3"
  },
  "language_info": {
   "codemirror_mode": {
    "name": "ipython",
    "version": 3
   },
   "file_extension": ".py",
   "mimetype": "text/x-python",
   "name": "python",
   "nbconvert_exporter": "python",
   "pygments_lexer": "ipython3",
   "version": "3.10.10"
  },
  "orig_nbformat": 4
 },
 "nbformat": 4,
 "nbformat_minor": 2
}
